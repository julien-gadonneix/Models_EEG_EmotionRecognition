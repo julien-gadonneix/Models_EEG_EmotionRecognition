{
 "cells": [
  {
   "cell_type": "code",
   "execution_count": 1,
   "metadata": {},
   "outputs": [],
   "source": [
    "import sys\n",
    "from pathlib import Path\n",
    "wdir = Path.cwd().parent.absolute()\n",
    "sys.path.insert(1, str(wdir))\n",
    "\n",
    "from models.EEGModels import EEGNet, ShallowConvNet, DeepConvNet, EEGNet_ChanRed, CapsEEGNet, TCNet\n",
    "import torch\n",
    "import os"
   ]
  },
  {
   "cell_type": "code",
   "execution_count": 2,
   "metadata": {},
   "outputs": [
    {
     "name": "stdout",
     "output_type": "stream",
     "text": [
      "Layer: block1.0.weight, Parameters: 1024\n",
      "Layer: block1.1.weight, Parameters: 64\n",
      "Layer: block1.1.bias, Parameters: 64\n",
      "Layer: block1.2.weight, Parameters: 7168\n",
      "Layer: block1.3.weight, Parameters: 512\n",
      "Layer: block1.3.bias, Parameters: 512\n",
      "Layer: block2.0.depthwise.weight, Parameters: 8192\n",
      "Layer: block2.0.pointwise.weight, Parameters: 32768\n",
      "Layer: block2.1.weight, Parameters: 64\n",
      "Layer: block2.1.bias, Parameters: 64\n",
      "Layer: dense.weight, Parameters: 512\n",
      "Layer: dense.bias, Parameters: 2\n",
      "Total Parameters: 50946\n"
     ]
    }
   ],
   "source": [
    "model = EEGNet(nb_classes = 2, Chans = 14, Samples = 128, dropoutRate = 0.1, kernLength = 16, F1 = 64, D = 8, F2 = 64, dropoutType = 'Dropout')\n",
    "\n",
    "total_params = 0\n",
    "for name, param in model.named_parameters():\n",
    "    layer_params = param.numel()\n",
    "    print(f\"Layer: {name}, Parameters: {layer_params}\")\n",
    "    total_params += layer_params\n",
    "\n",
    "print(f\"Total Parameters: {total_params}\")"
   ]
  },
  {
   "cell_type": "code",
   "execution_count": 3,
   "metadata": {},
   "outputs": [
    {
     "name": "stdout",
     "output_type": "stream",
     "text": [
      "Layer: chan_reduction.weight, Parameters: 1116\n",
      "Layer: chan_reduction.bias, Parameters: 18\n",
      "Layer: block1.0.weight, Parameters: 1600\n",
      "Layer: block1.1.weight, Parameters: 64\n",
      "Layer: block1.1.bias, Parameters: 64\n",
      "Layer: block1.2.weight, Parameters: 9216\n",
      "Layer: block1.3.weight, Parameters: 512\n",
      "Layer: block1.3.bias, Parameters: 512\n",
      "Layer: block2.0.depthwise.weight, Parameters: 8192\n",
      "Layer: block2.0.pointwise.weight, Parameters: 32768\n",
      "Layer: block2.1.weight, Parameters: 64\n",
      "Layer: block2.1.bias, Parameters: 64\n",
      "Layer: dense.weight, Parameters: 1152\n",
      "Layer: dense.bias, Parameters: 3\n",
      "Total Parameters: 55345\n"
     ]
    }
   ],
   "source": [
    "model_SEED = EEGNet_ChanRed(nb_classes = 3, Chans = 62, InnerChans=18, Samples = 200, dropoutRate = 0.1, kernLength = 25, F1 = 64, D = 8, F2 = 64, dropoutType = 'Dropout')\n",
    "\n",
    "total_params = 0\n",
    "for name, param in model_SEED.named_parameters():\n",
    "    layer_params = param.numel()\n",
    "    print(f\"Layer: {name}, Parameters: {layer_params}\")\n",
    "    total_params += layer_params\n",
    "\n",
    "print(f\"Total Parameters: {total_params}\")"
   ]
  },
  {
   "cell_type": "code",
   "execution_count": 4,
   "metadata": {},
   "outputs": [
    {
     "name": "stdout",
     "output_type": "stream",
     "text": [
      "torch.Size([8, 3])\n"
     ]
    },
    {
     "name": "stderr",
     "output_type": "stream",
     "text": [
      "/Users/juliengadonneix/anaconda3/envs/intern3A/lib/python3.9/site-packages/torch/nn/modules/conv.py:456: UserWarning: Using padding='same' with even kernel lengths and odd dilation may require a zero-padded copy of the input be created (Triggered internally at /Users/runner/work/_temp/anaconda/conda-bld/pytorch_1712608633180/work/aten/src/ATen/native/Convolution.cpp:1032.)\n",
      "  return F.conv2d(input, weight, bias, self.stride,\n"
     ]
    }
   ],
   "source": [
    "x = torch.randn(8, 1, 62, 200)\n",
    "y = model_SEED(x)\n",
    "print(y.size())"
   ]
  },
  {
   "cell_type": "code",
   "execution_count": 5,
   "metadata": {},
   "outputs": [
    {
     "name": "stdout",
     "output_type": "stream",
     "text": [
      "Layer: block_1_2.0.weight, Parameters: 512\n",
      "Layer: block_1_2.1.weight, Parameters: 8\n",
      "Layer: block_1_2.1.bias, Parameters: 8\n",
      "Layer: block_1_2.3.weight, Parameters: 224\n",
      "Layer: block_1_2.4.weight, Parameters: 16\n",
      "Layer: block_1_2.4.bias, Parameters: 16\n",
      "Layer: primaryCaps.caps.weight, Parameters: 24576\n",
      "Layer: primaryCaps.caps.bias, Parameters: 256\n",
      "Layer: primaryCaps.caps2.weight, Parameters: 69632\n",
      "Layer: primaryCaps.caps2.bias, Parameters: 256\n",
      "Layer: emotionCaps.W, Parameters: 1048576\n",
      "Layer: fc.weight, Parameters: 16\n",
      "Layer: fc.bias, Parameters: 1\n",
      "Total Parameters: 1144097\n"
     ]
    }
   ],
   "source": [
    "model_capseegnet = CapsEEGNet(nb_classes=2, Chans=14)\n",
    "\n",
    "total_params = 0\n",
    "for name, param in model_capseegnet.named_parameters():\n",
    "    layer_params = param.numel()\n",
    "    print(f\"Layer: {name}, Parameters: {layer_params}\")\n",
    "    total_params += layer_params\n",
    "\n",
    "print(f\"Total Parameters: {total_params}\")"
   ]
  },
  {
   "cell_type": "code",
   "execution_count": 6,
   "metadata": {},
   "outputs": [
    {
     "name": "stdout",
     "output_type": "stream",
     "text": [
      "\t torch.Size([8, 16, 1, 128])\n",
      "\t torch.Size([8, 256, 1, 128])\n",
      "\t torch.Size([8, 272, 1, 128])\n",
      "\t torch.Size([8, 256, 1, 128])\n",
      "\t torch.Size([8, 4096, 8])\n",
      "torch.Size([8, 2])\n",
      "tensor([[0.5018, 0.4982],\n",
      "        [0.4992, 0.5008],\n",
      "        [0.4999, 0.5001],\n",
      "        [0.4991, 0.5009],\n",
      "        [0.4998, 0.5002],\n",
      "        [0.4985, 0.5015],\n",
      "        [0.4992, 0.5008],\n",
      "        [0.4981, 0.5019]], grad_fn=<SoftmaxBackward0>)\n"
     ]
    }
   ],
   "source": [
    "x = torch.randn(8, 1, 14, 128)\n",
    "y = model_capseegnet(x)\n",
    "print(y.size())\n",
    "print(y)"
   ]
  },
  {
   "cell_type": "code",
   "execution_count": 7,
   "metadata": {},
   "outputs": [
    {
     "name": "stdout",
     "output_type": "stream",
     "text": [
      "Layer: PatchPartition.weight, Parameters: 5376\n",
      "Layer: PatchPartition.bias, Parameters: 32\n",
      "Layer: primaryCaps.caps.weight, Parameters: 3538944\n",
      "Layer: primaryCaps.caps.bias, Parameters: 384\n",
      "Layer: primaryCaps.caps2.weight, Parameters: 163840\n",
      "Layer: primaryCaps.caps2.bias, Parameters: 256\n",
      "Layer: emotionCaps.W, Parameters: 65536\n",
      "Total Parameters: 3774368\n"
     ]
    },
    {
     "name": "stderr",
     "output_type": "stream",
     "text": [
      "/Users/juliengadonneix/anaconda3/envs/intern3A/lib/python3.9/site-packages/torch/nn/modules/transformer.py:306: UserWarning: enable_nested_tensor is True, but self.use_nested_tensor is False because encoder_layer.norm_first was True\n",
      "  warnings.warn(f\"enable_nested_tensor is True, but self.use_nested_tensor is False because {why_not_sparsity_fast_path}\")\n"
     ]
    }
   ],
   "source": [
    "model_tcnet = TCNet(nb_classes=2, device='cpu', Chans=14)\n",
    "\n",
    "\n",
    "total_params = 0\n",
    "for name, param in model_tcnet.named_parameters():\n",
    "    layer_params = param.numel()\n",
    "    print(f\"Layer: {name}, Parameters: {layer_params}\")\n",
    "    total_params += layer_params\n",
    "\n",
    "print(f\"Total Parameters: {total_params}\")"
   ]
  },
  {
   "cell_type": "code",
   "execution_count": 8,
   "metadata": {},
   "outputs": [
    {
     "name": "stdout",
     "output_type": "stream",
     "text": [
      "torch.Size([8, 32, 16, 32])\n",
      "torch.Size([8, 256, 2, 4])\n",
      "\t torch.Size([8, 256, 2, 4])\n",
      "\t torch.Size([8, 384, 2, 4])\n",
      "\t torch.Size([8, 640, 2, 4])\n",
      "\t torch.Size([8, 256, 2, 4])\n",
      "\t torch.Size([8, 256, 8])\n",
      "torch.Size([8, 256, 8])\n",
      "torch.Size([8, 2, 16])\n",
      "torch.Size([8, 2])\n"
     ]
    }
   ],
   "source": [
    "x = torch.randn(8, 14, 48, 128)\n",
    "out = model_tcnet(x)\n",
    "print(out.shape)"
   ]
  },
  {
   "cell_type": "code",
   "execution_count": 9,
   "metadata": {},
   "outputs": [
    {
     "name": "stdout",
     "output_type": "stream",
     "text": [
      "8\n",
      "0\n",
      "mps\n",
      "False\n"
     ]
    }
   ],
   "source": [
    "print(os.cpu_count())\n",
    "print(torch.cuda.device_count()) \n",
    "device = torch.device('cuda' if torch.cuda.is_available() else 'mps' if torch.backends.mps.is_available() else 'cpu')\n",
    "print(device)\n",
    "print(device.type == 'cuda')\n",
    "if device.type == 'cuda':\n",
    "    properties = torch.cuda.get_device_properties(device)\n",
    "    print(properties)"
   ]
  },
  {
   "cell_type": "code",
   "execution_count": 10,
   "metadata": {},
   "outputs": [
    {
     "name": "stdout",
     "output_type": "stream",
     "text": [
      "Number of GPUs: 1\n"
     ]
    }
   ],
   "source": [
    "import subprocess\n",
    "import plistlib\n",
    "\n",
    "def get_gpu_info():\n",
    "    \"\"\"Get information about the GPU on macOS.\"\"\"\n",
    "    # Run system_profiler command and capture the output\n",
    "    result = subprocess.run(['system_profiler', '-xml', 'SPDisplaysDataType'], capture_output=True)\n",
    "    if result.returncode == 0:\n",
    "        # Parse the XML output\n",
    "        display_info = plistlib.loads(result.stdout)\n",
    "        # Extract GPU information\n",
    "        gpu_count = len(display_info[0]['_items'])\n",
    "        return gpu_count\n",
    "    else:\n",
    "        print(\"Error:\", result.stderr)\n",
    "        return None\n",
    "\n",
    "gpu_count = get_gpu_info()\n",
    "if gpu_count is not None:\n",
    "    print(\"Number of GPUs:\", gpu_count)\n"
   ]
  },
  {
   "cell_type": "code",
   "execution_count": 11,
   "metadata": {},
   "outputs": [
    {
     "name": "stdout",
     "output_type": "stream",
     "text": [
      "GPU Time:  0.40522313117980957\n"
     ]
    }
   ],
   "source": [
    "import time\n",
    "import torch\n",
    "\n",
    "start_time = time.time()\n",
    "\n",
    "# syncrocnize time with cpu, otherwise only time for oflaoding data to gpu would be measured\n",
    "torch.mps.synchronize()\n",
    "\n",
    "a = torch.ones(4000,4000, device=\"mps\")\n",
    "for _ in range(200):\n",
    "   a +=a\n",
    "\n",
    "elapsed_time = time.time() - start_time\n",
    "print( \"GPU Time: \", elapsed_time)"
   ]
  },
  {
   "cell_type": "code",
   "execution_count": 12,
   "metadata": {},
   "outputs": [
    {
     "name": "stdout",
     "output_type": "stream",
     "text": [
      "tensor([[-1.2654, -1.4659,  0.6567, -0.9974,  0.2072,  1.4428,  1.0412,  0.9358],\n",
      "        [ 1.3798, -0.3627, -0.0027, -0.3838, -1.0778, -0.4006,  0.7975,  0.7431],\n",
      "        [ 0.3590,  0.2300, -0.3154, -1.1586, -1.2288, -1.5236, -1.7418,  0.4773],\n",
      "        [-0.1641, -0.7577,  0.1533, -1.1018,  1.2366, -0.8071, -0.2263,  0.6648],\n",
      "        [ 0.4122,  1.2468, -1.4503, -0.9990,  1.4388,  1.2958, -2.4612,  0.8197],\n",
      "        [ 0.6530,  0.5259, -0.8077, -1.8335,  1.9630, -0.6820,  0.6334, -0.5389],\n",
      "        [ 0.5827, -1.5218,  0.2630, -0.0145, -1.8279,  0.2240, -0.6383, -0.5819],\n",
      "        [ 0.2965, -0.2551,  0.7696, -0.4535, -1.1237,  0.6824, -0.1904,  0.3850]])\n"
     ]
    },
    {
     "data": {
      "text/plain": [
       "tensor([[[-1.2654, -1.4659,  0.6567, -0.9974,  0.2072,  1.4428,  1.0412,\n",
       "           0.9358],\n",
       "         [ 1.3798, -0.3627, -0.0027, -0.3838, -1.0778, -0.4006,  0.7975,\n",
       "           0.7431]],\n",
       "\n",
       "        [[ 0.3590,  0.2300, -0.3154, -1.1586, -1.2288, -1.5236, -1.7418,\n",
       "           0.4773],\n",
       "         [-0.1641, -0.7577,  0.1533, -1.1018,  1.2366, -0.8071, -0.2263,\n",
       "           0.6648]],\n",
       "\n",
       "        [[ 0.4122,  1.2468, -1.4503, -0.9990,  1.4388,  1.2958, -2.4612,\n",
       "           0.8197],\n",
       "         [ 0.6530,  0.5259, -0.8077, -1.8335,  1.9630, -0.6820,  0.6334,\n",
       "          -0.5389]],\n",
       "\n",
       "        [[ 0.5827, -1.5218,  0.2630, -0.0145, -1.8279,  0.2240, -0.6383,\n",
       "          -0.5819],\n",
       "         [ 0.2965, -0.2551,  0.7696, -0.4535, -1.1237,  0.6824, -0.1904,\n",
       "           0.3850]]])"
      ]
     },
     "execution_count": 12,
     "metadata": {},
     "output_type": "execute_result"
    }
   ],
   "source": [
    "t = torch.randn(8,8)\n",
    "print(t)\n",
    "torch.reshape(t, (-1, 2, 8))"
   ]
  },
  {
   "cell_type": "code",
   "execution_count": null,
   "metadata": {},
   "outputs": [],
   "source": []
  }
 ],
 "metadata": {
  "kernelspec": {
   "display_name": "intern3A",
   "language": "python",
   "name": "python3"
  },
  "language_info": {
   "codemirror_mode": {
    "name": "ipython",
    "version": 3
   },
   "file_extension": ".py",
   "mimetype": "text/x-python",
   "name": "python",
   "nbconvert_exporter": "python",
   "pygments_lexer": "ipython3",
   "version": "3.9.18"
  }
 },
 "nbformat": 4,
 "nbformat_minor": 2
}
