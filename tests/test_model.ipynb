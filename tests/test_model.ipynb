{
 "cells": [
  {
   "cell_type": "code",
   "execution_count": 1,
   "metadata": {},
   "outputs": [],
   "source": [
    "import sys\n",
    "from pathlib import Path\n",
    "wdir = Path.cwd().parent.absolute()\n",
    "sys.path.insert(1, str(wdir))\n",
    "\n",
    "from models.EEGModels import EEGNet, ShallowConvNet, DeepConvNet, EEGNet_ChanRed, CapsEEGNet, TCNet\n",
    "import torch\n",
    "import os"
   ]
  },
  {
   "cell_type": "code",
   "execution_count": 2,
   "metadata": {},
   "outputs": [
    {
     "name": "stdout",
     "output_type": "stream",
     "text": [
      "Layer: block1.0.weight, Parameters: 1024\n",
      "Layer: block1.1.weight, Parameters: 64\n",
      "Layer: block1.1.bias, Parameters: 64\n",
      "Layer: block1.2.weight, Parameters: 7168\n",
      "Layer: block1.3.weight, Parameters: 512\n",
      "Layer: block1.3.bias, Parameters: 512\n",
      "Layer: block2.0.depthwise.weight, Parameters: 8192\n",
      "Layer: block2.0.pointwise.weight, Parameters: 32768\n",
      "Layer: block2.1.weight, Parameters: 64\n",
      "Layer: block2.1.bias, Parameters: 64\n",
      "Layer: dense.weight, Parameters: 512\n",
      "Layer: dense.bias, Parameters: 2\n",
      "Total Parameters: 50946\n"
     ]
    }
   ],
   "source": [
    "model = EEGNet(nb_classes = 2, Chans = 14, Samples = 128, dropoutRate = 0.1, kernLength = 16, F1 = 64, D = 8, F2 = 64, dropoutType = 'Dropout')\n",
    "\n",
    "total_params = 0\n",
    "for name, param in model.named_parameters():\n",
    "    layer_params = param.numel()\n",
    "    print(f\"Layer: {name}, Parameters: {layer_params}\")\n",
    "    total_params += layer_params\n",
    "\n",
    "print(f\"Total Parameters: {total_params}\")"
   ]
  },
  {
   "cell_type": "code",
   "execution_count": 3,
   "metadata": {},
   "outputs": [
    {
     "name": "stdout",
     "output_type": "stream",
     "text": [
      "Layer: chan_reduction.weight, Parameters: 1116\n",
      "Layer: chan_reduction.bias, Parameters: 18\n",
      "Layer: block1.0.weight, Parameters: 1600\n",
      "Layer: block1.1.weight, Parameters: 64\n",
      "Layer: block1.1.bias, Parameters: 64\n",
      "Layer: block1.2.weight, Parameters: 9216\n",
      "Layer: block1.3.weight, Parameters: 512\n",
      "Layer: block1.3.bias, Parameters: 512\n",
      "Layer: block2.0.depthwise.weight, Parameters: 8192\n",
      "Layer: block2.0.pointwise.weight, Parameters: 32768\n",
      "Layer: block2.1.weight, Parameters: 64\n",
      "Layer: block2.1.bias, Parameters: 64\n",
      "Layer: dense.weight, Parameters: 1152\n",
      "Layer: dense.bias, Parameters: 3\n",
      "Total Parameters: 55345\n"
     ]
    }
   ],
   "source": [
    "model_SEED = EEGNet_ChanRed(nb_classes = 3, Chans = 62, InnerChans=18, Samples = 200, dropoutRate = 0.1, kernLength = 25, F1 = 64, D = 8, F2 = 64, dropoutType = 'Dropout')\n",
    "\n",
    "total_params = 0\n",
    "for name, param in model_SEED.named_parameters():\n",
    "    layer_params = param.numel()\n",
    "    print(f\"Layer: {name}, Parameters: {layer_params}\")\n",
    "    total_params += layer_params\n",
    "\n",
    "print(f\"Total Parameters: {total_params}\")"
   ]
  },
  {
   "cell_type": "code",
   "execution_count": 4,
   "metadata": {},
   "outputs": [
    {
     "name": "stdout",
     "output_type": "stream",
     "text": [
      "torch.Size([8, 3])\n"
     ]
    },
    {
     "name": "stderr",
     "output_type": "stream",
     "text": [
      "/Users/juliengadonneix/anaconda3/envs/intern3A/lib/python3.9/site-packages/torch/nn/modules/conv.py:456: UserWarning: Using padding='same' with even kernel lengths and odd dilation may require a zero-padded copy of the input be created (Triggered internally at /Users/runner/work/_temp/anaconda/conda-bld/pytorch_1712608633180/work/aten/src/ATen/native/Convolution.cpp:1032.)\n",
      "  return F.conv2d(input, weight, bias, self.stride,\n"
     ]
    }
   ],
   "source": [
    "x = torch.randn(8, 1, 62, 200)\n",
    "y = model_SEED(x)\n",
    "print(y.size())"
   ]
  },
  {
   "cell_type": "code",
   "execution_count": 5,
   "metadata": {},
   "outputs": [
    {
     "name": "stdout",
     "output_type": "stream",
     "text": [
      "Layer: block_1_2.0.weight, Parameters: 512\n",
      "Layer: block_1_2.1.weight, Parameters: 8\n",
      "Layer: block_1_2.1.bias, Parameters: 8\n",
      "Layer: block_1_2.3.weight, Parameters: 224\n",
      "Layer: block_1_2.4.weight, Parameters: 16\n",
      "Layer: block_1_2.4.bias, Parameters: 16\n",
      "Layer: primaryCaps.caps.weight, Parameters: 24576\n",
      "Layer: primaryCaps.caps.bias, Parameters: 256\n",
      "Layer: primaryCaps.caps2.weight, Parameters: 69632\n",
      "Layer: primaryCaps.caps2.bias, Parameters: 256\n",
      "Layer: emotionCaps.W, Parameters: 1048576\n",
      "Layer: fc.weight, Parameters: 16\n",
      "Layer: fc.bias, Parameters: 1\n",
      "Total Parameters: 1144097\n"
     ]
    }
   ],
   "source": [
    "model_capseegnet = CapsEEGNet(nb_classes=2, Chans=14)\n",
    "\n",
    "total_params = 0\n",
    "for name, param in model_capseegnet.named_parameters():\n",
    "    layer_params = param.numel()\n",
    "    print(f\"Layer: {name}, Parameters: {layer_params}\")\n",
    "    total_params += layer_params\n",
    "\n",
    "print(f\"Total Parameters: {total_params}\")"
   ]
  },
  {
   "cell_type": "code",
   "execution_count": 6,
   "metadata": {},
   "outputs": [
    {
     "name": "stdout",
     "output_type": "stream",
     "text": [
      "torch.Size([8, 2])\n",
      "tensor([[0.5009, 0.4991],\n",
      "        [0.5012, 0.4988],\n",
      "        [0.4994, 0.5006],\n",
      "        [0.5004, 0.4996],\n",
      "        [0.5010, 0.4990],\n",
      "        [0.4989, 0.5011],\n",
      "        [0.5001, 0.4999],\n",
      "        [0.5001, 0.4999]], grad_fn=<SoftmaxBackward0>)\n"
     ]
    }
   ],
   "source": [
    "x = torch.randn(8, 1, 14, 128)\n",
    "y = model_capseegnet(x)\n",
    "print(y.size())\n",
    "print(y)"
   ]
  },
  {
   "cell_type": "code",
   "execution_count": 7,
   "metadata": {},
   "outputs": [
    {
     "name": "stdout",
     "output_type": "stream",
     "text": [
      "Layer: PatchPartition.weight, Parameters: 5376\n",
      "Layer: PatchPartition.bias, Parameters: 32\n",
      "Layer: primaryCaps.caps.weight, Parameters: 3538944\n",
      "Layer: primaryCaps.caps.bias, Parameters: 384\n",
      "Layer: primaryCaps.caps2.weight, Parameters: 163840\n",
      "Layer: primaryCaps.caps2.bias, Parameters: 256\n",
      "Layer: emotionCaps.W, Parameters: 65536\n",
      "Total Parameters: 3774368\n"
     ]
    },
    {
     "name": "stderr",
     "output_type": "stream",
     "text": [
      "/Users/juliengadonneix/anaconda3/envs/intern3A/lib/python3.9/site-packages/torch/nn/modules/transformer.py:306: UserWarning: enable_nested_tensor is True, but self.use_nested_tensor is False because encoder_layer.norm_first was True\n",
      "  warnings.warn(f\"enable_nested_tensor is True, but self.use_nested_tensor is False because {why_not_sparsity_fast_path}\")\n"
     ]
    }
   ],
   "source": [
    "model_tcnet = TCNet(nb_classes=2, device='cpu', Chans=14)\n",
    "\n",
    "\n",
    "total_params = 0\n",
    "for name, param in model_tcnet.named_parameters():\n",
    "    layer_params = param.numel()\n",
    "    print(f\"Layer: {name}, Parameters: {layer_params}\")\n",
    "    total_params += layer_params\n",
    "\n",
    "print(f\"Total Parameters: {total_params}\")"
   ]
  },
  {
   "cell_type": "code",
   "execution_count": 8,
   "metadata": {},
   "outputs": [
    {
     "name": "stdout",
     "output_type": "stream",
     "text": [
      "torch.Size([8, 2])\n"
     ]
    }
   ],
   "source": [
    "x = torch.randn(8, 14, 48, 128)\n",
    "out = model_tcnet(x)\n",
    "print(out.shape)"
   ]
  },
  {
   "cell_type": "code",
   "execution_count": 9,
   "metadata": {},
   "outputs": [
    {
     "name": "stdout",
     "output_type": "stream",
     "text": [
      "8\n",
      "0\n",
      "mps\n",
      "False\n"
     ]
    }
   ],
   "source": [
    "print(os.cpu_count())\n",
    "print(torch.cuda.device_count()) \n",
    "device = torch.device('cuda' if torch.cuda.is_available() else 'mps' if torch.backends.mps.is_available() else 'cpu')\n",
    "print(device)\n",
    "print(device.type == 'cuda')\n",
    "if device.type == 'cuda':\n",
    "    properties = torch.cuda.get_device_properties(device)\n",
    "    print(properties)"
   ]
  },
  {
   "cell_type": "code",
   "execution_count": 10,
   "metadata": {},
   "outputs": [
    {
     "name": "stdout",
     "output_type": "stream",
     "text": [
      "Number of GPUs: 1\n"
     ]
    }
   ],
   "source": [
    "import subprocess\n",
    "import plistlib\n",
    "\n",
    "def get_gpu_info():\n",
    "    \"\"\"Get information about the GPU on macOS.\"\"\"\n",
    "    # Run system_profiler command and capture the output\n",
    "    result = subprocess.run(['system_profiler', '-xml', 'SPDisplaysDataType'], capture_output=True)\n",
    "    if result.returncode == 0:\n",
    "        # Parse the XML output\n",
    "        display_info = plistlib.loads(result.stdout)\n",
    "        # Extract GPU information\n",
    "        gpu_count = len(display_info[0]['_items'])\n",
    "        return gpu_count\n",
    "    else:\n",
    "        print(\"Error:\", result.stderr)\n",
    "        return None\n",
    "\n",
    "gpu_count = get_gpu_info()\n",
    "if gpu_count is not None:\n",
    "    print(\"Number of GPUs:\", gpu_count)\n"
   ]
  },
  {
   "cell_type": "code",
   "execution_count": 11,
   "metadata": {},
   "outputs": [
    {
     "name": "stdout",
     "output_type": "stream",
     "text": [
      "GPU Time:  0.7244799137115479\n"
     ]
    }
   ],
   "source": [
    "import time\n",
    "import torch\n",
    "\n",
    "start_time = time.time()\n",
    "\n",
    "# syncrocnize time with cpu, otherwise only time for oflaoding data to gpu would be measured\n",
    "torch.mps.synchronize()\n",
    "\n",
    "a = torch.ones(4000,4000, device=\"mps\")\n",
    "for _ in range(200):\n",
    "   a +=a\n",
    "\n",
    "elapsed_time = time.time() - start_time\n",
    "print( \"GPU Time: \", elapsed_time)"
   ]
  },
  {
   "cell_type": "code",
   "execution_count": 12,
   "metadata": {},
   "outputs": [
    {
     "name": "stdout",
     "output_type": "stream",
     "text": [
      "tensor([[-1.3296e+00, -1.7722e+00, -2.0000e+00, -1.2098e+00, -5.1593e-01,\n",
      "         -1.3994e-01,  3.0890e-01,  1.0507e+00],\n",
      "        [ 3.6133e-01,  1.3256e+00, -1.6759e-01, -1.1906e-01,  1.5129e+00,\n",
      "         -6.2672e-01,  5.7583e-01, -5.0284e-01],\n",
      "        [-4.0213e-01,  1.4174e+00,  1.0090e+00, -1.6705e+00, -5.1651e-01,\n",
      "          3.5122e-01,  1.4479e+00, -1.0237e+00],\n",
      "        [ 1.7625e-01, -1.2928e+00, -1.6349e+00, -1.1511e+00, -9.0430e-04,\n",
      "          1.2438e+00,  2.3233e-01, -9.7487e-01],\n",
      "        [-2.5936e-01,  7.4029e-02,  1.3072e+00, -1.3323e-01, -6.1612e-01,\n",
      "          5.4580e-01, -3.4117e-01, -4.5955e-01],\n",
      "        [ 1.0247e-01,  6.7699e-01, -6.6861e-01,  2.2630e-01, -2.9368e-01,\n",
      "         -1.2636e+00,  1.3476e+00, -4.6094e-01],\n",
      "        [-5.6880e-02,  5.1699e-01,  3.4769e-01,  9.0209e-01,  4.0056e-01,\n",
      "         -1.4741e-01, -1.7207e+00, -5.1751e-01],\n",
      "        [ 3.4654e-01, -6.3015e-01,  3.8711e-01, -7.0938e-01, -1.4822e+00,\n",
      "          2.8392e-01,  1.9146e-01, -4.3963e-01]])\n"
     ]
    },
    {
     "data": {
      "text/plain": [
       "tensor([[[-1.3296e+00, -1.7722e+00, -2.0000e+00, -1.2098e+00, -5.1593e-01,\n",
       "          -1.3994e-01,  3.0890e-01,  1.0507e+00],\n",
       "         [ 3.6133e-01,  1.3256e+00, -1.6759e-01, -1.1906e-01,  1.5129e+00,\n",
       "          -6.2672e-01,  5.7583e-01, -5.0284e-01]],\n",
       "\n",
       "        [[-4.0213e-01,  1.4174e+00,  1.0090e+00, -1.6705e+00, -5.1651e-01,\n",
       "           3.5122e-01,  1.4479e+00, -1.0237e+00],\n",
       "         [ 1.7625e-01, -1.2928e+00, -1.6349e+00, -1.1511e+00, -9.0430e-04,\n",
       "           1.2438e+00,  2.3233e-01, -9.7487e-01]],\n",
       "\n",
       "        [[-2.5936e-01,  7.4029e-02,  1.3072e+00, -1.3323e-01, -6.1612e-01,\n",
       "           5.4580e-01, -3.4117e-01, -4.5955e-01],\n",
       "         [ 1.0247e-01,  6.7699e-01, -6.6861e-01,  2.2630e-01, -2.9368e-01,\n",
       "          -1.2636e+00,  1.3476e+00, -4.6094e-01]],\n",
       "\n",
       "        [[-5.6880e-02,  5.1699e-01,  3.4769e-01,  9.0209e-01,  4.0056e-01,\n",
       "          -1.4741e-01, -1.7207e+00, -5.1751e-01],\n",
       "         [ 3.4654e-01, -6.3015e-01,  3.8711e-01, -7.0938e-01, -1.4822e+00,\n",
       "           2.8392e-01,  1.9146e-01, -4.3963e-01]]])"
      ]
     },
     "execution_count": 12,
     "metadata": {},
     "output_type": "execute_result"
    }
   ],
   "source": [
    "t = torch.randn(8,8)\n",
    "print(t)\n",
    "torch.reshape(t, (-1, 2, 8))"
   ]
  },
  {
   "cell_type": "code",
   "execution_count": null,
   "metadata": {},
   "outputs": [],
   "source": []
  }
 ],
 "metadata": {
  "kernelspec": {
   "display_name": "intern3A",
   "language": "python",
   "name": "python3"
  },
  "language_info": {
   "codemirror_mode": {
    "name": "ipython",
    "version": 3
   },
   "file_extension": ".py",
   "mimetype": "text/x-python",
   "name": "python",
   "nbconvert_exporter": "python",
   "pygments_lexer": "ipython3",
   "version": "3.9.18"
  }
 },
 "nbformat": 4,
 "nbformat_minor": 2
}
