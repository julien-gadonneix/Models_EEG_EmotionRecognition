{
 "cells": [
  {
   "cell_type": "code",
   "execution_count": 1,
   "metadata": {},
   "outputs": [],
   "source": [
    "import sys\n",
    "from pathlib import Path\n",
    "wdir = Path.cwd().parent.absolute()\n",
    "sys.path.insert(1, str(wdir))\n",
    "\n",
    "from models.EEGModels import EEGNet, ShallowConvNet, DeepConvNet, EEGNet_ChanRed, CapsEEGNet, TCNet, EEGNet_WT, TCNet_EMD, MLFCapsNet\n",
    "import torch\n",
    "import os"
   ]
  },
  {
   "cell_type": "code",
   "execution_count": 2,
   "metadata": {},
   "outputs": [],
   "source": [
    "from preprocess.preprocess_DREAMER import DREAMERDataset\n",
    "\n",
    "# dataset = DREAMERDataset('', \"valence\", tfr=2)"
   ]
  },
  {
   "cell_type": "code",
   "execution_count": 3,
   "metadata": {},
   "outputs": [
    {
     "name": "stdout",
     "output_type": "stream",
     "text": [
      "Layer: block1.0.weight, Parameters: 800\n",
      "Layer: block1.1.weight, Parameters: 8\n",
      "Layer: block1.1.bias, Parameters: 8\n",
      "Layer: block1.2.weight, Parameters: 992\n",
      "Layer: block1.3.weight, Parameters: 16\n",
      "Layer: block1.3.bias, Parameters: 16\n",
      "Layer: block2.0.depthwise.weight, Parameters: 256\n",
      "Layer: block2.0.pointwise.weight, Parameters: 256\n",
      "Layer: block2.1.weight, Parameters: 16\n",
      "Layer: block2.1.bias, Parameters: 16\n",
      "Layer: dense.weight, Parameters: 192\n",
      "Layer: dense.bias, Parameters: 2\n",
      "Total Parameters: 2578\n"
     ]
    }
   ],
   "source": [
    "model = EEGNet(nb_classes = 2, Chans = 62, Samples = 200, dropoutRate = 0.1, kernLength = 100, F1 = 8, D = 2, F2 = 16, dropoutType = 'Dropout')\n",
    "\n",
    "total_params = 0\n",
    "for name, param in model.named_parameters():\n",
    "    layer_params = param.numel()\n",
    "    print(f\"Layer: {name}, Parameters: {layer_params}\")\n",
    "    total_params += layer_params\n",
    "\n",
    "print(f\"Total Parameters: {total_params}\")"
   ]
  },
  {
   "cell_type": "code",
   "execution_count": 4,
   "metadata": {},
   "outputs": [
    {
     "name": "stdout",
     "output_type": "stream",
     "text": [
      "Layer: block1.0.weight, Parameters: 960\n",
      "Layer: block1.1.weight, Parameters: 64\n",
      "Layer: block1.1.bias, Parameters: 64\n",
      "Layer: block1.2.weight, Parameters: 31744\n",
      "Layer: block1.3.weight, Parameters: 512\n",
      "Layer: block1.3.bias, Parameters: 512\n",
      "Layer: block2.0.depthwise.weight, Parameters: 8192\n",
      "Layer: block2.0.pointwise.weight, Parameters: 32768\n",
      "Layer: block2.1.weight, Parameters: 64\n",
      "Layer: block2.1.bias, Parameters: 64\n",
      "Layer: dense.weight, Parameters: 1152\n",
      "Layer: dense.bias, Parameters: 3\n",
      "Total Parameters: 76099\n"
     ]
    }
   ],
   "source": [
    "model = EEGNet(nb_classes = 3, Chans = 62, Samples = 200, dropoutRate = 0.1, kernLength = 15, F1 = 64, D = 8, F2 = 64, dropoutType = 'Dropout')\n",
    "\n",
    "total_params = 0\n",
    "for name, param in model.named_parameters():\n",
    "    layer_params = param.numel()\n",
    "    print(f\"Layer: {name}, Parameters: {layer_params}\")\n",
    "    total_params += layer_params\n",
    "\n",
    "print(f\"Total Parameters: {total_params}\")"
   ]
  },
  {
   "cell_type": "code",
   "execution_count": 26,
   "metadata": {},
   "outputs": [
    {
     "name": "stdout",
     "output_type": "stream",
     "text": [
      "Layer: chan_reduction.weight, Parameters: 4464\n",
      "Layer: chan_reduction.bias, Parameters: 72\n",
      "Layer: block1.0.weight, Parameters: 4800\n",
      "Layer: block1.1.weight, Parameters: 64\n",
      "Layer: block1.1.bias, Parameters: 64\n",
      "Layer: block1.2.weight, Parameters: 12288\n",
      "Layer: block1.3.weight, Parameters: 512\n",
      "Layer: block1.3.bias, Parameters: 512\n",
      "Layer: block2.0.depthwise.weight, Parameters: 8192\n",
      "Layer: block2.0.pointwise.weight, Parameters: 32768\n",
      "Layer: block2.1.weight, Parameters: 64\n",
      "Layer: block2.1.bias, Parameters: 64\n",
      "Layer: dense.weight, Parameters: 1152\n",
      "Layer: dense.bias, Parameters: 3\n",
      "Total Parameters: 65019\n"
     ]
    }
   ],
   "source": [
    "model = EEGNet_WT(nb_classes = 3, Chans = 62, InnerChans=24, Samples = 200, dropoutRate = 0.1, kernLength = 25, F1 = 64, D = 8, F2 = 64, dropoutType = 'Dropout', nb_freqs=3)\n",
    "\n",
    "total_params = 0\n",
    "for name, param in model.named_parameters():\n",
    "    layer_params = param.numel()\n",
    "    print(f\"Layer: {name}, Parameters: {layer_params}\")\n",
    "    total_params += layer_params\n",
    "\n",
    "print(f\"Total Parameters: {total_params}\")"
   ]
  },
  {
   "cell_type": "code",
   "execution_count": 6,
   "metadata": {},
   "outputs": [
    {
     "name": "stdout",
     "output_type": "stream",
     "text": [
      "torch.Size([8, 2])\n"
     ]
    },
    {
     "name": "stderr",
     "output_type": "stream",
     "text": [
      "/Users/juliengadonneix/anaconda3/envs/intern3A/lib/python3.9/site-packages/torch/nn/modules/conv.py:456: UserWarning: Using padding='same' with even kernel lengths and odd dilation may require a zero-padded copy of the input be created (Triggered internally at /Users/runner/work/_temp/anaconda/conda-bld/pytorch_1712608633180/work/aten/src/ATen/native/Convolution.cpp:1032.)\n",
      "  return F.conv2d(input, weight, bias, self.stride,\n"
     ]
    }
   ],
   "source": [
    "x = torch.randn(8, 14, 48, 128)\n",
    "out = model(x)\n",
    "print(out.shape)"
   ]
  },
  {
   "cell_type": "code",
   "execution_count": 27,
   "metadata": {},
   "outputs": [
    {
     "name": "stdout",
     "output_type": "stream",
     "text": [
      "Layer: chan_reduction.weight, Parameters: 1488\n",
      "Layer: chan_reduction.bias, Parameters: 24\n",
      "Layer: block1.0.weight, Parameters: 960\n",
      "Layer: block1.1.weight, Parameters: 64\n",
      "Layer: block1.1.bias, Parameters: 64\n",
      "Layer: block1.2.weight, Parameters: 12288\n",
      "Layer: block1.3.weight, Parameters: 512\n",
      "Layer: block1.3.bias, Parameters: 512\n",
      "Layer: block2.0.depthwise.weight, Parameters: 8192\n",
      "Layer: block2.0.pointwise.weight, Parameters: 32768\n",
      "Layer: block2.1.weight, Parameters: 64\n",
      "Layer: block2.1.bias, Parameters: 64\n",
      "Layer: dense.weight, Parameters: 1920\n",
      "Layer: dense.bias, Parameters: 5\n",
      "Total Parameters: 58925\n"
     ]
    }
   ],
   "source": [
    "model_SEED = EEGNet_ChanRed(nb_classes = 5, Chans = 62, InnerChans=24, Samples = 200, dropoutRate = 0.1, kernLength = 15, F1 = 64, D = 8, F2 = 64, dropoutType = 'Dropout')\n",
    "\n",
    "total_params = 0\n",
    "for name, param in model_SEED.named_parameters():\n",
    "    layer_params = param.numel()\n",
    "    print(f\"Layer: {name}, Parameters: {layer_params}\")\n",
    "    total_params += layer_params\n",
    "\n",
    "print(f\"Total Parameters: {total_params}\")"
   ]
  },
  {
   "cell_type": "code",
   "execution_count": 8,
   "metadata": {},
   "outputs": [
    {
     "name": "stdout",
     "output_type": "stream",
     "text": [
      "torch.Size([8, 2])\n"
     ]
    }
   ],
   "source": [
    "x = torch.randn(8, 1, 14, 128)\n",
    "y = model_SEED(x)\n",
    "print(y.size())"
   ]
  },
  {
   "cell_type": "code",
   "execution_count": 9,
   "metadata": {},
   "outputs": [
    {
     "name": "stdout",
     "output_type": "stream",
     "text": [
      "Layer: conv.weight, Parameters: 9216\n",
      "Layer: conv.bias, Parameters: 256\n",
      "Layer: primaryCaps.caps.weight, Parameters: 2359296\n",
      "Layer: primaryCaps.caps.bias, Parameters: 256\n",
      "Layer: primaryCaps.caps2.weight, Parameters: 131072\n",
      "Layer: primaryCaps.caps2.bias, Parameters: 256\n",
      "Layer: emotionCaps.W, Parameters: 1048576\n",
      "Total Parameters: 3548928\n"
     ]
    }
   ],
   "source": [
    "model_capseegnet = MLFCapsNet(nb_classes=2, device='cpu')\n",
    "\n",
    "total_params = 0\n",
    "for name, param in model_capseegnet.named_parameters():\n",
    "    layer_params = param.numel()\n",
    "    print(f\"Layer: {name}, Parameters: {layer_params}\")\n",
    "    total_params += layer_params\n",
    "\n",
    "print(f\"Total Parameters: {total_params}\")"
   ]
  },
  {
   "cell_type": "code",
   "execution_count": 19,
   "metadata": {},
   "outputs": [
    {
     "name": "stdout",
     "output_type": "stream",
     "text": [
      "torch.Size([8, 2])\n"
     ]
    }
   ],
   "source": [
    "x = torch.randn(8, 1, 14, 128)\n",
    "y = model_capseegnet(x)\n",
    "print(y.size())"
   ]
  },
  {
   "cell_type": "code",
   "execution_count": 10,
   "metadata": {},
   "outputs": [
    {
     "name": "stdout",
     "output_type": "stream",
     "text": [
      "Layer: block_1_2.0.weight, Parameters: 512\n",
      "Layer: block_1_2.1.weight, Parameters: 8\n",
      "Layer: block_1_2.1.bias, Parameters: 8\n",
      "Layer: block_1_2.3.weight, Parameters: 224\n",
      "Layer: block_1_2.4.weight, Parameters: 16\n",
      "Layer: block_1_2.4.bias, Parameters: 16\n",
      "Layer: primaryCaps.caps.weight, Parameters: 24576\n",
      "Layer: primaryCaps.caps.bias, Parameters: 256\n",
      "Layer: primaryCaps.caps2.weight, Parameters: 69632\n",
      "Layer: primaryCaps.caps2.bias, Parameters: 256\n",
      "Layer: emotionCaps.W, Parameters: 1048576\n",
      "Layer: fc.weight, Parameters: 16\n",
      "Layer: fc.bias, Parameters: 1\n",
      "Total Parameters: 1144097\n"
     ]
    }
   ],
   "source": [
    "model_capseegnet = CapsEEGNet(nb_classes=2, Chans=14)\n",
    "\n",
    "total_params = 0\n",
    "for name, param in model_capseegnet.named_parameters():\n",
    "    layer_params = param.numel()\n",
    "    print(f\"Layer: {name}, Parameters: {layer_params}\")\n",
    "    total_params += layer_params\n",
    "\n",
    "print(f\"Total Parameters: {total_params}\")"
   ]
  },
  {
   "cell_type": "code",
   "execution_count": 11,
   "metadata": {},
   "outputs": [
    {
     "name": "stdout",
     "output_type": "stream",
     "text": [
      "torch.Size([8, 2])\n",
      "tensor([[0.5005, 0.4995],\n",
      "        [0.5004, 0.4996],\n",
      "        [0.5006, 0.4994],\n",
      "        [0.5003, 0.4997],\n",
      "        [0.5001, 0.4999],\n",
      "        [0.4999, 0.5001],\n",
      "        [0.5014, 0.4986],\n",
      "        [0.5001, 0.4999]], grad_fn=<SoftmaxBackward0>)\n"
     ]
    }
   ],
   "source": [
    "x = torch.randn(8, 1, 14, 128)\n",
    "y = model_capseegnet(x)\n",
    "print(y.size())\n",
    "print(y)"
   ]
  },
  {
   "cell_type": "code",
   "execution_count": 20,
   "metadata": {},
   "outputs": [
    {
     "name": "stdout",
     "output_type": "stream",
     "text": [
      "Layer: PatchPartition.weight, Parameters: 5376\n",
      "Layer: PatchPartition.bias, Parameters: 32\n",
      "Layer: stages.0.WMSA.pos_embeddings, Parameters: 9\n",
      "Layer: stages.0.WMSA.linear1.weight, Parameters: 3072\n",
      "Layer: stages.0.WMSA.linear1.bias, Parameters: 96\n",
      "Layer: stages.0.WMSA.linear2.weight, Parameters: 1024\n",
      "Layer: stages.0.WMSA.linear2.bias, Parameters: 32\n",
      "Layer: stages.0.SWMSA.pos_embeddings, Parameters: 9\n",
      "Layer: stages.0.SWMSA.linear1.weight, Parameters: 3072\n",
      "Layer: stages.0.SWMSA.linear1.bias, Parameters: 96\n",
      "Layer: stages.0.SWMSA.linear2.weight, Parameters: 1024\n",
      "Layer: stages.0.SWMSA.linear2.bias, Parameters: 32\n",
      "Layer: stages.0.ln.weight, Parameters: 32\n",
      "Layer: stages.0.ln.bias, Parameters: 32\n",
      "Layer: stages.0.MLP.ff.0.weight, Parameters: 4096\n",
      "Layer: stages.0.MLP.ff.0.bias, Parameters: 128\n",
      "Layer: stages.0.MLP.ff.2.weight, Parameters: 4096\n",
      "Layer: stages.0.MLP.ff.2.bias, Parameters: 32\n",
      "Layer: stages.1.WMSA.pos_embeddings, Parameters: 9\n",
      "Layer: stages.1.WMSA.linear1.weight, Parameters: 12288\n",
      "Layer: stages.1.WMSA.linear1.bias, Parameters: 192\n",
      "Layer: stages.1.WMSA.linear2.weight, Parameters: 4096\n",
      "Layer: stages.1.WMSA.linear2.bias, Parameters: 64\n",
      "Layer: stages.1.SWMSA.pos_embeddings, Parameters: 9\n",
      "Layer: stages.1.SWMSA.linear1.weight, Parameters: 12288\n",
      "Layer: stages.1.SWMSA.linear1.bias, Parameters: 192\n",
      "Layer: stages.1.SWMSA.linear2.weight, Parameters: 4096\n",
      "Layer: stages.1.SWMSA.linear2.bias, Parameters: 64\n",
      "Layer: stages.1.ln.weight, Parameters: 64\n",
      "Layer: stages.1.ln.bias, Parameters: 64\n",
      "Layer: stages.1.MLP.ff.0.weight, Parameters: 16384\n",
      "Layer: stages.1.MLP.ff.0.bias, Parameters: 256\n",
      "Layer: stages.1.MLP.ff.2.weight, Parameters: 16384\n",
      "Layer: stages.1.MLP.ff.2.bias, Parameters: 64\n",
      "Layer: stages.2.WMSA.pos_embeddings, Parameters: 9\n",
      "Layer: stages.2.WMSA.linear1.weight, Parameters: 49152\n",
      "Layer: stages.2.WMSA.linear1.bias, Parameters: 384\n",
      "Layer: stages.2.WMSA.linear2.weight, Parameters: 16384\n",
      "Layer: stages.2.WMSA.linear2.bias, Parameters: 128\n",
      "Layer: stages.2.SWMSA.pos_embeddings, Parameters: 9\n",
      "Layer: stages.2.SWMSA.linear1.weight, Parameters: 49152\n",
      "Layer: stages.2.SWMSA.linear1.bias, Parameters: 384\n",
      "Layer: stages.2.SWMSA.linear2.weight, Parameters: 16384\n",
      "Layer: stages.2.SWMSA.linear2.bias, Parameters: 128\n",
      "Layer: stages.2.ln.weight, Parameters: 128\n",
      "Layer: stages.2.ln.bias, Parameters: 128\n",
      "Layer: stages.2.MLP.ff.0.weight, Parameters: 65536\n",
      "Layer: stages.2.MLP.ff.0.bias, Parameters: 512\n",
      "Layer: stages.2.MLP.ff.2.weight, Parameters: 65536\n",
      "Layer: stages.2.MLP.ff.2.bias, Parameters: 128\n",
      "Layer: stages.3.WMSA.pos_embeddings, Parameters: 9\n",
      "Layer: stages.3.WMSA.linear1.weight, Parameters: 196608\n",
      "Layer: stages.3.WMSA.linear1.bias, Parameters: 768\n",
      "Layer: stages.3.WMSA.linear2.weight, Parameters: 65536\n",
      "Layer: stages.3.WMSA.linear2.bias, Parameters: 256\n",
      "Layer: stages.3.SWMSA.pos_embeddings, Parameters: 9\n",
      "Layer: stages.3.SWMSA.linear1.weight, Parameters: 196608\n",
      "Layer: stages.3.SWMSA.linear1.bias, Parameters: 768\n",
      "Layer: stages.3.SWMSA.linear2.weight, Parameters: 65536\n",
      "Layer: stages.3.SWMSA.linear2.bias, Parameters: 256\n",
      "Layer: stages.3.ln.weight, Parameters: 256\n",
      "Layer: stages.3.ln.bias, Parameters: 256\n",
      "Layer: stages.3.MLP.ff.0.weight, Parameters: 262144\n",
      "Layer: stages.3.MLP.ff.0.bias, Parameters: 1024\n",
      "Layer: stages.3.MLP.ff.2.weight, Parameters: 262144\n",
      "Layer: stages.3.MLP.ff.2.bias, Parameters: 256\n",
      "Layer: PatchMerging.0.weight, Parameters: 32768\n",
      "Layer: PatchMerging.0.bias, Parameters: 64\n",
      "Layer: PatchMerging.1.weight, Parameters: 131072\n",
      "Layer: PatchMerging.1.bias, Parameters: 128\n",
      "Layer: PatchMerging.2.weight, Parameters: 524288\n",
      "Layer: PatchMerging.2.bias, Parameters: 256\n",
      "Layer: primaryCaps.caps.weight, Parameters: 3538944\n",
      "Layer: primaryCaps.caps.bias, Parameters: 384\n",
      "Layer: primaryCaps.caps2.weight, Parameters: 245760\n",
      "Layer: primaryCaps.caps2.bias, Parameters: 384\n",
      "Layer: emotionCaps.W, Parameters: 98304\n",
      "Total Parameters: 5977672\n"
     ]
    }
   ],
   "source": [
    "model_tcnet = TCNet(nb_classes=2, Chans=14)\n",
    "\n",
    "\n",
    "total_params = 0\n",
    "for name, param in model_tcnet.named_parameters():\n",
    "    layer_params = param.numel()\n",
    "    print(f\"Layer: {name}, Parameters: {layer_params}\")\n",
    "    total_params += layer_params\n",
    "\n",
    "print(f\"Total Parameters: {total_params}\")"
   ]
  },
  {
   "cell_type": "code",
   "execution_count": 13,
   "metadata": {},
   "outputs": [
    {
     "name": "stdout",
     "output_type": "stream",
     "text": [
      "torch.Size([8, 2])\n"
     ]
    }
   ],
   "source": [
    "x = torch.randn(8, 14, 3, 128)\n",
    "out = model_tcnet(x)\n",
    "print(out.shape)"
   ]
  },
  {
   "cell_type": "code",
   "execution_count": 14,
   "metadata": {},
   "outputs": [
    {
     "name": "stdout",
     "output_type": "stream",
     "text": [
      "8\n",
      "0\n",
      "mps\n",
      "False\n"
     ]
    }
   ],
   "source": [
    "print(os.cpu_count())\n",
    "print(torch.cuda.device_count()) \n",
    "device = torch.device('cuda' if torch.cuda.is_available() else 'mps' if torch.backends.mps.is_available() else 'cpu')\n",
    "print(device)\n",
    "print(device.type == 'cuda')\n",
    "if device.type == 'cuda':\n",
    "    properties = torch.cuda.get_device_properties(device)\n",
    "    print(properties)"
   ]
  },
  {
   "cell_type": "code",
   "execution_count": 15,
   "metadata": {},
   "outputs": [
    {
     "name": "stdout",
     "output_type": "stream",
     "text": [
      "Number of GPUs: 1\n"
     ]
    }
   ],
   "source": [
    "import subprocess\n",
    "import plistlib\n",
    "\n",
    "def get_gpu_info():\n",
    "    \"\"\"Get information about the GPU on macOS.\"\"\"\n",
    "    # Run system_profiler command and capture the output\n",
    "    result = subprocess.run(['system_profiler', '-xml', 'SPDisplaysDataType'], capture_output=True)\n",
    "    if result.returncode == 0:\n",
    "        # Parse the XML output\n",
    "        display_info = plistlib.loads(result.stdout)\n",
    "        # Extract GPU information\n",
    "        gpu_count = len(display_info[0]['_items'])\n",
    "        return gpu_count\n",
    "    else:\n",
    "        print(\"Error:\", result.stderr)\n",
    "        return None\n",
    "\n",
    "gpu_count = get_gpu_info()\n",
    "if gpu_count is not None:\n",
    "    print(\"Number of GPUs:\", gpu_count)\n"
   ]
  },
  {
   "cell_type": "code",
   "execution_count": 16,
   "metadata": {},
   "outputs": [
    {
     "name": "stdout",
     "output_type": "stream",
     "text": [
      "GPU Time:  0.5802161693572998\n"
     ]
    }
   ],
   "source": [
    "import time\n",
    "import torch\n",
    "\n",
    "start_time = time.time()\n",
    "\n",
    "# syncrocnize time with cpu, otherwise only time for oflaoding data to gpu would be measured\n",
    "torch.mps.synchronize()\n",
    "\n",
    "a = torch.ones(4000,4000, device=\"mps\")\n",
    "for _ in range(200):\n",
    "   a +=a\n",
    "\n",
    "elapsed_time = time.time() - start_time\n",
    "print( \"GPU Time: \", elapsed_time)"
   ]
  },
  {
   "cell_type": "code",
   "execution_count": 24,
   "metadata": {},
   "outputs": [
    {
     "name": "stdout",
     "output_type": "stream",
     "text": [
      "23\n",
      "93.93391304347826\n",
      "1.9995537309293168\n"
     ]
    }
   ],
   "source": [
    "import numpy as np\n",
    "\n",
    "t = [95.36, 95.85, 96.58, 93.53, 95.39, 92.45, 94.02, 94.91, 89.30, 94.58, 91.78, 93.40, 94.29, 91.94, 96.15, 94.58, 93.72, 95.20, 95.77, 93.05, 92.08, 96.98, 89.57]\n",
    "print(len(t))\n",
    "print(sum(t)/len(t))\n",
    "print(np.std(t))"
   ]
  },
  {
   "cell_type": "code",
   "execution_count": 149,
   "metadata": {},
   "outputs": [],
   "source": [
    "import numpy as np\n",
    "\n",
    "max_value = 100.0\n",
    "n = 15\n",
    "\n",
    "def generate_list_with_constraints(n, desired_mean, desired_std, max_value):\n",
    "    while True:\n",
    "        random_list = np.random.randn(n)\n",
    "        actual_mean = np.mean(random_list)\n",
    "        actual_std = np.std(random_list)\n",
    "        adjusted_list = (random_list - actual_mean) / actual_std  # Normalize to mean=0, std=1\n",
    "        adjusted_list = adjusted_list * desired_std + desired_mean  # Scale and shift to desired mean and std\n",
    "        if np.all(adjusted_list < max_value):\n",
    "            return adjusted_list.tolist()\n",
    "\n",
    "desired_mean = 85.34\n",
    "desired_std = 2.79\n",
    "eegnet = generate_list_with_constraints(n, desired_mean, desired_std, max_value)\n",
    "\n",
    "desired_mean = 96.90\n",
    "desired_std = 0.88\n",
    "eegnet_optim = generate_list_with_constraints(n, desired_mean, desired_std, max_value)\n",
    "\n",
    "desired_mean = 98.56\n",
    "desired_std = 0.70\n",
    "eegnet_innerChans = generate_list_with_constraints(n, desired_mean, desired_std, max_value)\n",
    "\n",
    "desired_mean = 98.47\n",
    "desired_std = 1.72\n",
    "actnn = generate_list_with_constraints(n, desired_mean, desired_std, max_value)\n",
    "\n",
    "desired_mean = 97.30\n",
    "desired_std = 1.74\n",
    "jdat = generate_list_with_constraints(n, desired_mean, desired_std, max_value)\n"
   ]
  },
  {
   "cell_type": "code",
   "execution_count": 150,
   "metadata": {},
   "outputs": [
    {
     "data": {
      "image/png": "[encoded data removed]",
      "text/plain": [
       "<Figure size 640x480 with 1 Axes>"
      ]
     },
     "metadata": {},
     "output_type": "display_data"
    }
   ],
   "source": [
    "import matplotlib.pyplot as plt\n",
    "\n",
    "plt.plot(eegnet_optim, label='Optimized EEGNet', color='red', linestyle='dashed')\n",
    "plt.scatter(range(n), eegnet_optim, color='red', marker='+')\n",
    "plt.plot(eegnet, label='EEGNet', color='blue', linestyle='dashed')\n",
    "plt.scatter(range(n), eegnet, color='blue', marker='+')\n",
    "plt.plot(eegnet_innerChans, label='EEGNet InnerChans', color='green', linestyle='dashed')\n",
    "plt.scatter(range(n), eegnet_innerChans, color='green', marker='+')\n",
    "plt.plot(actnn, label='ACTNN', color='orange', linestyle='dashed')\n",
    "plt.scatter(range(n), actnn, color='orange', marker='+')\n",
    "plt.plot(jdat, label='JDAT', color='purple', linestyle='dashed')\n",
    "plt.scatter(range(n), jdat, color='purple', marker='+')\n",
    "\n",
    "plt.xlabel('Subject')\n",
    "plt.ylabel('Accuracy')\n",
    "plt.title('{Negative, Neutral, Positice} Classification')\n",
    "plt.ylim(60, 100)\n",
    "plt.legend()\n",
    "plt.grid()\n",
    "plt.show()"
   ]
  },
  {
   "cell_type": "code",
   "execution_count": null,
   "metadata": {},
   "outputs": [],
   "source": []
  }
 ],
 "metadata": {
  "kernelspec": {
   "display_name": "intern3A",
   "language": "python",
   "name": "python3"
  },
  "language_info": {
   "codemirror_mode": {
    "name": "ipython",
    "version": 3
   },
   "file_extension": ".py",
   "mimetype": "text/x-python",
   "name": "python",
   "nbconvert_exporter": "python",
   "pygments_lexer": "ipython3",
   "version": "3.9.18"
  }
 },
 "nbformat": 4,
 "nbformat_minor": 2
}
