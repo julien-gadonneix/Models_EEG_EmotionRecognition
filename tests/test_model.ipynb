{
 "cells": [
  {
   "cell_type": "code",
   "execution_count": 1,
   "metadata": {},
   "outputs": [],
   "source": [
    "import sys\n",
    "from pathlib import Path\n",
    "wdir = Path.cwd().parent.absolute()\n",
    "sys.path.insert(1, str(wdir))\n",
    "\n",
    "from models.EEGModels import EEGNet, ShallowConvNet, DeepConvNet\n",
    "import torch\n",
    "import os"
   ]
  },
  {
   "cell_type": "code",
   "execution_count": 2,
   "metadata": {},
   "outputs": [
    {
     "name": "stdout",
     "output_type": "stream",
     "text": [
      "Total number of parameters:  51717\n"
     ]
    }
   ],
   "source": [
    "model = EEGNet(nb_classes = 5, Chans = 14, Samples = 128, dropoutRate = 0.1, kernLength = 16, F1 = 64, D = 8, F2 = 64, dropoutType = 'Dropout')\n",
    "\n",
    "total_params = sum(p.numel() for p in model.parameters())\n",
    "print(\"Total number of parameters: \", total_params)"
   ]
  },
  {
   "cell_type": "code",
   "execution_count": 3,
   "metadata": {},
   "outputs": [
    {
     "name": "stdout",
     "output_type": "stream",
     "text": [
      "8\n",
      "0\n",
      "mps\n",
      "False\n"
     ]
    }
   ],
   "source": [
    "print(os.cpu_count())\n",
    "print(torch.cuda.device_count()) \n",
    "device = torch.device('cuda' if torch.cuda.is_available() else 'mps' if torch.backends.mps.is_available() else 'cpu')\n",
    "print(device)\n",
    "print(device.type == 'cuda')\n",
    "if device.type == 'cuda':\n",
    "    properties = torch.cuda.get_device_properties(device)\n",
    "    print(properties)"
   ]
  },
  {
   "cell_type": "code",
   "execution_count": 5,
   "metadata": {},
   "outputs": [
    {
     "name": "stdout",
     "output_type": "stream",
     "text": [
      "[{'_name': 'Apple M2', 'spdisplays_mtlgpufamilysupport': 'spdisplays_metal3', 'spdisplays_ndrvs': [{'_name': 'Color LCD', '_spdisplays_display-product-id': 'a052', '_spdisplays_display-serial-number': 'fd626d62', '_spdisplays_display-vendor-id': '610', '_spdisplays_display-week': '0', '_spdisplays_display-year': '0', '_spdisplays_displayID': '1', '_spdisplays_pixels': '2940 x 1912', '_spdisplays_resolution': '1470 x 956 @ 60.00Hz', 'spdisplays_ambient_brightness': 'spdisplays_no', 'spdisplays_connection_type': 'spdisplays_internal', 'spdisplays_display_type': 'spdisplays_built-in-liquid-retina', 'spdisplays_main': 'spdisplays_yes', 'spdisplays_mirror': 'spdisplays_off', 'spdisplays_online': 'spdisplays_yes', 'spdisplays_pixelresolution': 'spdisplays_2560x1664Retina'}, {'_name': 'HP Z27n', '_spdisplays_display-product-id': '3219', '_spdisplays_display-serial-number': '1010101', '_spdisplays_display-vendor-id': '22f0', '_spdisplays_display-week': '16', '_spdisplays_display-year': '2016', '_spdisplays_displayID': '2', '_spdisplays_pixels': '2560 x 1440', '_spdisplays_resolution': '2560 x 1440 @ 60.00Hz', 'spdisplays_mirror': 'spdisplays_off', 'spdisplays_online': 'spdisplays_yes', 'spdisplays_pixelresolution': 'spdisplays_qhd', 'spdisplays_resolution': '2560 x 1440 @ 60.00Hz', 'spdisplays_rotation': 'spdisplays_supported'}], 'spdisplays_vendor': 'sppci_vendor_Apple', 'sppci_bus': 'spdisplays_builtin', 'sppci_cores': '8', 'sppci_device_type': 'spdisplays_gpu', 'sppci_model': 'Apple M2'}]\n",
      "Number of GPUs: 1\n"
     ]
    }
   ],
   "source": [
    "import subprocess\n",
    "import plistlib\n",
    "\n",
    "def get_gpu_info():\n",
    "    \"\"\"Get information about the GPU on macOS.\"\"\"\n",
    "    # Run system_profiler command and capture the output\n",
    "    result = subprocess.run(['system_profiler', '-xml', 'SPDisplaysDataType'], capture_output=True)\n",
    "    if result.returncode == 0:\n",
    "        # Parse the XML output\n",
    "        display_info = plistlib.loads(result.stdout)\n",
    "        # Extract GPU information\n",
    "        gpu_count = len(display_info[0]['_items'])\n",
    "        return gpu_count\n",
    "    else:\n",
    "        print(\"Error:\", result.stderr)\n",
    "        return None\n",
    "\n",
    "gpu_count = get_gpu_info()\n",
    "if gpu_count is not None:\n",
    "    print(\"Number of GPUs:\", gpu_count)\n"
   ]
  },
  {
   "cell_type": "code",
   "execution_count": 21,
   "metadata": {},
   "outputs": [
    {
     "name": "stdout",
     "output_type": "stream",
     "text": [
      "GPU Time:  0.3293938636779785\n"
     ]
    }
   ],
   "source": [
    "import time\n",
    "import torch\n",
    "\n",
    "start_time = time.time()\n",
    "\n",
    "# syncrocnize time with cpu, otherwise only time for oflaoding data to gpu would be measured\n",
    "torch.mps.synchronize()\n",
    "\n",
    "a = torch.ones(4000,4000, device=\"mps\")\n",
    "for _ in range(200):\n",
    "   a +=a\n",
    "\n",
    "elapsed_time = time.time() - start_time\n",
    "print( \"GPU Time: \", elapsed_time)"
   ]
  },
  {
   "cell_type": "code",
   "execution_count": null,
   "metadata": {},
   "outputs": [],
   "source": []
  }
 ],
 "metadata": {
  "kernelspec": {
   "display_name": "intern3A",
   "language": "python",
   "name": "python3"
  },
  "language_info": {
   "codemirror_mode": {
    "name": "ipython",
    "version": 3
   },
   "file_extension": ".py",
   "mimetype": "text/x-python",
   "name": "python",
   "nbconvert_exporter": "python",
   "pygments_lexer": "ipython3",
   "version": "3.9.18"
  }
 },
 "nbformat": 4,
 "nbformat_minor": 2
}
